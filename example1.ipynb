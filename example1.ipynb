{
 "cells": [
  {
   "cell_type": "markdown",
   "source": [
    "На складе лежат разные фрукты в разном количестве.\n",
    "Напишем функцию, которая на вход принимает любое количество названий фруктов и их количество, а возвращает общее количество фруктов на складе"
   ],
   "metadata": {
    "collapsed": false
   }
  },
  {
   "cell_type": "code",
   "execution_count": 1,
   "outputs": [
    {
     "data": {
      "text/plain": "545"
     },
     "execution_count": 1,
     "metadata": {},
     "output_type": "execute_result"
    }
   ],
   "source": [
    "def get_amount_of_fruit(**kwargs):\n",
    "    fruits_in_stock = {**kwargs}\n",
    "    return sum(fruits_in_stock.values())\n",
    "\n",
    "\n",
    "fruits_in_stock = {'apples': 100,\n",
    "                   'kiwi': 50,\n",
    "                   'bananas': 150,\n",
    "                   'tangerines': 120,\n",
    "                   'pears': 70,\n",
    "                   'oranges': 55}\n",
    "\n",
    "get_amount_of_fruit(**fruits_in_stock)"
   ],
   "metadata": {
    "collapsed": false
   }
  },
  {
   "cell_type": "code",
   "execution_count": 2,
   "outputs": [
    {
     "data": {
      "text/plain": "545"
     },
     "execution_count": 2,
     "metadata": {},
     "output_type": "execute_result"
    }
   ],
   "source": [
    "get_amount_of_fruit(apples=100, kiwi=50, bananas=150, tangerines=120, pears=70, oranges=55)"
   ],
   "metadata": {
    "collapsed": false
   }
  },
  {
   "cell_type": "markdown",
   "source": [
    "Дан список с затратами на рекламу, в данных есть ошибки: некоторые затраты имеют отрицательную величину. Удалим такие значения из списка и посчитаем суммарные затраты"
   ],
   "metadata": {
    "collapsed": false
   }
  },
  {
   "cell_type": "code",
   "execution_count": 6,
   "outputs": [
    {
     "data": {
      "text/plain": "1425"
     },
     "execution_count": 6,
     "metadata": {},
     "output_type": "execute_result"
    }
   ],
   "source": [
    "advertising_costs = [100, 125, -90, 345, 655, -1, 0, 200]\n",
    "correct_advertising_costs = [cost for cost in advertising_costs if cost > 0]\n",
    "sum(correct_advertising_costs)"
   ],
   "metadata": {
    "collapsed": false
   }
  },
  {
   "cell_type": "markdown",
   "source": [
    "Дана информация о покупках: отдельно дата покупок и сумма покупки.\n",
    "Найдем сумму выручки в ноябре."
   ],
   "metadata": {
    "collapsed": false
   }
  },
  {
   "cell_type": "code",
   "execution_count": 7,
   "outputs": [
    {
     "data": {
      "text/plain": "25098"
     },
     "execution_count": 7,
     "metadata": {},
     "output_type": "execute_result"
    }
   ],
   "source": [
    "from datetime import datetime\n",
    "\n",
    "date_of_purchases = ['2021-09-14', '2021-12-15', '2021-09-08', '2021-12-05', '2021-10-09',\n",
    "                    '2021-09-30', '2021-12-22', '2021-11-29', '2021-12-24', '2021-11-26',\n",
    "                    '2021-10-27', '2021-12-18', '2021-11-09', '2021-11-23', '2021-09-27',\n",
    "                    '2021-10-02', '2021-12-27', '2021-09-20', '2021-12-13', '2021-11-01',\n",
    "                    '2021-11-09', '2021-12-06', '2021-12-08', '2021-10-09', '2021-10-31',\n",
    "                    '2021-09-30', '2021-11-09', '2021-12-13', '2021-10-26', '2021-12-09']\n",
    "\n",
    "revenue_by_dates = [1270, 8413, 9028, 3703, 5739, 4095, 295, 4944, 5723, 3701, 4471, 651, 7037,\n",
    "                    4274, 6275, 4988, 6930, 2971, 6592, 2004, 2822, 519, 3406, 2732, 5015, 2008,\n",
    "                    316, 6333, 5700, 2887]\n",
    "\n",
    "month_of_purchases = [datetime.strptime(date, '%Y-%m-%d').month for date in date_of_purchases]\n",
    "revenue_of_november = sum(revenue_by_dates[i] for i, month in enumerate(month_of_purchases)\n",
    "                         if month == 11)\n",
    "revenue_of_november"
   ],
   "metadata": {
    "collapsed": false
   }
  },
  {
   "cell_type": "markdown",
   "source": [
    "Найдем выручку в зависимости от месяца"
   ],
   "metadata": {
    "collapsed": false
   }
  },
  {
   "cell_type": "code",
   "execution_count": 14,
   "outputs": [
    {
     "data": {
      "text/plain": "{'Сентябрь': 25647, 'Декабрь': 45452, 'Октябрь': 28645, 'Ноябрь': 25098}"
     },
     "execution_count": 14,
     "metadata": {},
     "output_type": "execute_result"
    }
   ],
   "source": [
    "from typing import Dict, List\n",
    "\n",
    "\n",
    "def get_name_of_month(number_of_month: list) -> list:\n",
    "    result = []\n",
    "    # numbers = range(12)\n",
    "    names = ['Январь', 'Февраль', 'Март', 'Апрель', 'Май', 'Июнь', 'Июль', 'Август', 'Сентябрь', 'Октябрь', 'Ноябрь', 'Декабрь']\n",
    "    for i in number_of_month:\n",
    "        result.append(names[i - 1])\n",
    "    return result\n",
    "\n",
    "\n",
    "def get_monthly_revenue(dates: List, revenues: List) -> Dict:\n",
    "    dates = get_name_of_month([datetime.strptime(date, '%Y-%m-%d').month for date in dates])\n",
    "    dates_revenues = {}\n",
    "    for i, month in enumerate(dates):\n",
    "        dates_revenues[month] = dates_revenues.get(month, 0) + revenues[i]\n",
    "    return dates_revenues\n",
    "\n",
    "\n",
    "get_monthly_revenue(date_of_purchases, revenue_by_dates)"
   ],
   "metadata": {
    "collapsed": false
   }
  },
  {
   "cell_type": "code",
   "execution_count": null,
   "outputs": [],
   "source": [],
   "metadata": {
    "collapsed": false
   }
  }
 ],
 "metadata": {
  "kernelspec": {
   "display_name": "Python 3",
   "language": "python",
   "name": "python3"
  },
  "language_info": {
   "codemirror_mode": {
    "name": "ipython",
    "version": 2
   },
   "file_extension": ".py",
   "mimetype": "text/x-python",
   "name": "python",
   "nbconvert_exporter": "python",
   "pygments_lexer": "ipython2",
   "version": "2.7.6"
  }
 },
 "nbformat": 4,
 "nbformat_minor": 0
}
